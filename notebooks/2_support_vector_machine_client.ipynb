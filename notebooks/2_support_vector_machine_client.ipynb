{
 "cells": [
  {
   "cell_type": "markdown",
   "metadata": {},
   "source": [
    "# 2. Support Vector Machine (SVM) client\n",
    "\n",
    "First, get application running with:\n",
    "\n",
    "```sh\n",
    "$ poetry run python ce_5073_3_1_tasca_avaluable/predict_app.py\n",
    "```\n",
    "\n",
    "Then, you can do the following http requests."
   ]
  },
  {
   "cell_type": "code",
   "execution_count": 4,
   "metadata": {},
   "outputs": [
    {
     "name": "stdout",
     "output_type": "stream",
     "text": [
      "{\n",
      "  \"probability of match\": \"98.217%\",\n",
      "  \"probable flower name\": \"Iris Virginica\"\n",
      "}\n"
     ]
    }
   ],
   "source": [
    "!curl --request POST \"http://127.0.0.1:8000/support-vector-machine/predict\" \\\n",
    "--header \"Content-Type: application/json\" \\\n",
    "--data-raw \"{\\\n",
    "    \\\"petal_length\\\": 5,\\\n",
    "    \\\"petal_width\\\": 5\\\n",
    "}\""
   ]
  },
  {
   "cell_type": "code",
   "execution_count": 6,
   "metadata": {},
   "outputs": [
    {
     "name": "stdout",
     "output_type": "stream",
     "text": [
      "{\n",
      "  \"probability of match\": \"65.763%\",\n",
      "  \"probable flower name\": \"Iris Virginica\"\n",
      "}\n"
     ]
    }
   ],
   "source": [
    "!curl --request POST \"http://127.0.0.1:8000/support-vector-machine/predict\" \\\n",
    "--header \"Content-Type: application/json\" \\\n",
    "--data-raw \"{\\\n",
    "    \\\"petal_length\\\": 8,\\\n",
    "    \\\"petal_width\\\": 3\\\n",
    "}\""
   ]
  }
 ],
 "metadata": {
  "kernelspec": {
   "display_name": ".venv",
   "language": "python",
   "name": "python3"
  },
  "language_info": {
   "codemirror_mode": {
    "name": "ipython",
    "version": 3
   },
   "file_extension": ".py",
   "mimetype": "text/x-python",
   "name": "python",
   "nbconvert_exporter": "python",
   "pygments_lexer": "ipython3",
   "version": "3.11.6"
  }
 },
 "nbformat": 4,
 "nbformat_minor": 2
}
